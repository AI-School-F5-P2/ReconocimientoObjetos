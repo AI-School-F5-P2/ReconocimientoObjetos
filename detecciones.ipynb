{
 "cells": [
  {
   "cell_type": "code",
   "execution_count": 1,
   "metadata": {},
   "outputs": [],
   "source": [
    "import cv2\n",
    "import time"
   ]
  },
  {
   "cell_type": "code",
   "execution_count": 10,
   "metadata": {},
   "outputs": [],
   "source": [
    "def detect_objects(frame):\n",
    "    # Se implementa la lógica de detección de objetos aquí\n",
    "    # se ubica el modelo de detección que sde este utilizando\n",
    "    # Retorna las detecciones encontradas en el fotograma"
   ]
  },
  {
   "cell_type": "code",
   "execution_count": 14,
   "metadata": {},
   "outputs": [],
   "source": [
    "import cv2\n",
    "\n",
    "# Función para procesar el video y generar un informe\n",
    "def generar_informe(video_path):\n",
    "    cap = cv2.VideoCapture(video_path)\n",
    "    if not cap.isOpened():\n",
    "        print(\"Error al abrir el vídeo.\")\n",
    "        return\n",
    "\n",
    "    frame_rate = cap.get(cv2.CAP_PROP_FPS)\n",
    "    total_frames = int(cap.get(cv2.CAP_PROP_FRAME_COUNT))\n",
    "    duration = total_frames / frame_rate\n",
    "\n",
    "    nombre_video = video_path.split('/')[-1]  # Obtener el nombre del video desde la ruta\n",
    "\n",
    "    # Guardar la información en un archivo de informe\n",
    "    with open('informe_detecciones.txt', 'a') as file:\n",
    "        file.write(f\"Nombre del vídeo: {nombre_video}\\n\")\n",
    "        file.write(f\"Duración del vídeo: {duration} segundos\\n\")\n",
    "        #agregar cualquier otra información relevante aquí\n",
    "        file.write(\"\\n\")\n",
    "\n",
    "    cap.release()\n",
    "    cv2.destroyAllWindows()\n",
    "\n",
    "# Ruta al video que se desea procesar\n",
    "video_path = 'videos/Tiposlogos.mp4'\n",
    "generar_informe(video_path)"
   ]
  }
 ],
 "metadata": {
  "kernelspec": {
   "display_name": "Objetos",
   "language": "python",
   "name": "python3"
  },
  "language_info": {
   "codemirror_mode": {
    "name": "ipython",
    "version": 3
   },
   "file_extension": ".py",
   "mimetype": "text/x-python",
   "name": "python",
   "nbconvert_exporter": "python",
   "pygments_lexer": "ipython3",
   "version": "3.11.7"
  }
 },
 "nbformat": 4,
 "nbformat_minor": 2
}
